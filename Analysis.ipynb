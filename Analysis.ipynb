{
 "cells": [
  {
   "cell_type": "code",
   "execution_count": 1,
   "id": "ff089120-d648-4e09-8fb0-994164fb047a",
   "metadata": {},
   "outputs": [
    {
     "name": "stdout",
     "output_type": "stream",
     "text": [
      "Collecting telethon\n",
      "  Downloading Telethon-1.37.0.tar.gz (620 kB)\n",
      "     ---------------------------------------- 0.0/620.2 kB ? eta -:--:--\n",
      "     - ----------------------------------- 30.7/620.2 kB 435.7 kB/s eta 0:00:02\n",
      "     --- --------------------------------- 61.4/620.2 kB 812.7 kB/s eta 0:00:01\n",
      "     ----- ------------------------------ 102.4/620.2 kB 737.3 kB/s eta 0:00:01\n",
      "     ---------- ------------------------- 184.3/620.2 kB 926.0 kB/s eta 0:00:01\n",
      "     -------------------- ----------------- 327.7/620.2 kB 1.4 MB/s eta 0:00:01\n",
      "     --------------------------------- ---- 553.0/620.2 kB 1.9 MB/s eta 0:00:01\n",
      "     -------------------------------------  614.4/620.2 kB 1.9 MB/s eta 0:00:01\n",
      "     -------------------------------------- 620.2/620.2 kB 1.8 MB/s eta 0:00:00\n",
      "  Installing build dependencies: started\n",
      "  Installing build dependencies: finished with status 'done'\n",
      "  Getting requirements to build wheel: started\n",
      "  Getting requirements to build wheel: finished with status 'done'\n",
      "  Preparing metadata (pyproject.toml): started\n",
      "  Preparing metadata (pyproject.toml): finished with status 'done'\n",
      "Requirement already satisfied: pandas in c:\\anaconda\\lib\\site-packages (2.2.2)\n",
      "Requirement already satisfied: nltk in c:\\anaconda\\lib\\site-packages (3.8.1)\n",
      "Requirement already satisfied: scikit-learn in c:\\anaconda\\lib\\site-packages (1.4.2)\n",
      "Requirement already satisfied: matplotlib in c:\\anaconda\\lib\\site-packages (3.8.4)\n",
      "Requirement already satisfied: seaborn in c:\\anaconda\\lib\\site-packages (0.13.2)\n",
      "Collecting pyaes (from telethon)\n",
      "  Downloading pyaes-1.6.1.tar.gz (28 kB)\n",
      "  Preparing metadata (setup.py): started\n",
      "  Preparing metadata (setup.py): finished with status 'done'\n",
      "Collecting rsa (from telethon)\n",
      "  Downloading rsa-4.9-py3-none-any.whl.metadata (4.2 kB)\n",
      "Requirement already satisfied: numpy>=1.26.0 in c:\\anaconda\\lib\\site-packages (from pandas) (1.26.4)\n",
      "Requirement already satisfied: python-dateutil>=2.8.2 in c:\\anaconda\\lib\\site-packages (from pandas) (2.9.0.post0)\n",
      "Requirement already satisfied: pytz>=2020.1 in c:\\anaconda\\lib\\site-packages (from pandas) (2024.1)\n",
      "Requirement already satisfied: tzdata>=2022.7 in c:\\anaconda\\lib\\site-packages (from pandas) (2023.3)\n",
      "Requirement already satisfied: click in c:\\anaconda\\lib\\site-packages (from nltk) (8.1.7)\n",
      "Requirement already satisfied: joblib in c:\\anaconda\\lib\\site-packages (from nltk) (1.4.2)\n",
      "Requirement already satisfied: regex>=2021.8.3 in c:\\anaconda\\lib\\site-packages (from nltk) (2023.10.3)\n",
      "Requirement already satisfied: tqdm in c:\\anaconda\\lib\\site-packages (from nltk) (4.66.4)\n",
      "Requirement already satisfied: scipy>=1.6.0 in c:\\anaconda\\lib\\site-packages (from scikit-learn) (1.13.1)\n",
      "Requirement already satisfied: threadpoolctl>=2.0.0 in c:\\anaconda\\lib\\site-packages (from scikit-learn) (2.2.0)\n",
      "Requirement already satisfied: contourpy>=1.0.1 in c:\\anaconda\\lib\\site-packages (from matplotlib) (1.2.0)\n",
      "Requirement already satisfied: cycler>=0.10 in c:\\anaconda\\lib\\site-packages (from matplotlib) (0.11.0)\n",
      "Requirement already satisfied: fonttools>=4.22.0 in c:\\anaconda\\lib\\site-packages (from matplotlib) (4.51.0)\n",
      "Requirement already satisfied: kiwisolver>=1.3.1 in c:\\anaconda\\lib\\site-packages (from matplotlib) (1.4.4)\n",
      "Requirement already satisfied: packaging>=20.0 in c:\\anaconda\\lib\\site-packages (from matplotlib) (23.2)\n",
      "Requirement already satisfied: pillow>=8 in c:\\anaconda\\lib\\site-packages (from matplotlib) (10.3.0)\n",
      "Requirement already satisfied: pyparsing>=2.3.1 in c:\\anaconda\\lib\\site-packages (from matplotlib) (3.0.9)\n",
      "Requirement already satisfied: six>=1.5 in c:\\anaconda\\lib\\site-packages (from python-dateutil>=2.8.2->pandas) (1.16.0)\n",
      "Requirement already satisfied: colorama in c:\\anaconda\\lib\\site-packages (from click->nltk) (0.4.6)\n",
      "Requirement already satisfied: pyasn1>=0.1.3 in c:\\anaconda\\lib\\site-packages (from rsa->telethon) (0.4.8)\n",
      "Downloading rsa-4.9-py3-none-any.whl (34 kB)\n",
      "Building wheels for collected packages: telethon, pyaes\n",
      "  Building wheel for telethon (pyproject.toml): started\n",
      "  Building wheel for telethon (pyproject.toml): finished with status 'done'\n",
      "  Created wheel for telethon: filename=Telethon-1.37.0-py3-none-any.whl size=694396 sha256=95191c68b699b5c8daf268a202c62a4a7672e2e16eef93a0b4fd7748f29308b4\n",
      "  Stored in directory: c:\\users\\admin\\appdata\\local\\pip\\cache\\wheels\\3a\\76\\b9\\a973ad419abf8aed2b6bd598623e5566c14b094e3d2d18c20f\n",
      "  Building wheel for pyaes (setup.py): started\n",
      "  Building wheel for pyaes (setup.py): finished with status 'done'\n",
      "  Created wheel for pyaes: filename=pyaes-1.6.1-py3-none-any.whl size=26360 sha256=983f14cb46855beb08753bd91afcd2aad45e0031c2292b9659e28796a87707c1\n",
      "  Stored in directory: c:\\users\\admin\\appdata\\local\\pip\\cache\\wheels\\d9\\43\\32\\ec313dd557e88e419489b9df40c04dad7b99576bde162496f8\n",
      "Successfully built telethon pyaes\n",
      "Installing collected packages: pyaes, rsa, telethon\n",
      "Successfully installed pyaes-1.6.1 rsa-4.9 telethon-1.37.0\n",
      "Note: you may need to restart the kernel to use updated packages.\n"
     ]
    }
   ],
   "source": [
    "pip install telethon pandas nltk scikit-learn matplotlib seaborn\n"
   ]
  },
  {
   "cell_type": "code",
   "execution_count": 6,
   "id": "ae661e59-1bd1-4068-9227-4032c856f27b",
   "metadata": {},
   "outputs": [
    {
     "name": "stdin",
     "output_type": "stream",
     "text": [
      "Please enter your phone (or bot token):  +919096090141\n"
     ]
    },
    {
     "name": "stderr",
     "output_type": "stream",
     "text": [
      "Server closed the connection: [WinError 64] The specified network name is no longer available\n"
     ]
    },
    {
     "name": "stdin",
     "output_type": "stream",
     "text": [
      "Please enter the code you received:  56331\n"
     ]
    },
    {
     "name": "stderr",
     "output_type": "stream",
     "text": [
      "Server closed the connection: [WinError 64] The specified network name is no longer available\n"
     ]
    },
    {
     "name": "stdout",
     "output_type": "stream",
     "text": [
      "Signed in successfully as Terror; remember to not break the ToS or you will risk an account ban!\n"
     ]
    },
    {
     "name": "stderr",
     "output_type": "stream",
     "text": [
      "C:\\Anaconda\\Lib\\site-packages\\telethon\\extensions\\binaryreader.py:56: RuntimeWarning: coroutine 'main' was never awaited\n",
      "  def read(self, length=-1):\n",
      "RuntimeWarning: Enable tracemalloc to get the object allocation traceback\n"
     ]
    },
    {
     "name": "stdout",
     "output_type": "stream",
     "text": [
      "Scraping complete. Data saved to telegram_data.csv.\n"
     ]
    }
   ],
   "source": [
    "import nest_asyncio\n",
    "import asyncio\n",
    "from telethon import TelegramClient\n",
    "import pandas as pd\n",
    "\n",
    "# Apply the nest_asyncio fix\n",
    "nest_asyncio.apply()\n",
    "\n",
    "# Set up Telegram API credentials\n",
    "api_id = '21682142'\n",
    "api_hash = '735aba550fd14057c8c1c3a268037f55'\n",
    "channel_link = 'https://t.me/STOCKGAINERSS'  # Replace with your Telegram channel link\n",
    "\n",
    "# Create Telegram client\n",
    "client = TelegramClient('session_name_1', api_id, api_hash)\n",
    "\n",
    "# Function to scrape Telegram messages\n",
    "async def scrape_messages():\n",
    "    # Fetch the entity using the channel link\n",
    "    entity = await client.get_entity(channel_link)\n",
    "    \n",
    "    messages = []\n",
    "    async for message in client.iter_messages(entity, limit=1000):  # Use the entity instead of username\n",
    "        if message.message:\n",
    "            messages.append(message.message)\n",
    "\n",
    "    # Save messages to a CSV\n",
    "    df = pd.DataFrame(messages, columns=['message'])\n",
    "    df.to_csv('telegram_data.csv', index=False)\n",
    "    print('Scraping complete. Data saved to telegram_data.csv.')\n",
    "\n",
    "# Main async function to start scraping\n",
    "async def main():\n",
    "    async with client:\n",
    "        await scrape_messages()\n",
    "\n",
    "# If an event loop is already running, use this approach\n",
    "if __name__ == \"__main__\":\n",
    "    try:\n",
    "        asyncio.run(main())  # Works if there's no running loop\n",
    "    except RuntimeError:\n",
    "        # If an event loop is already running, use this:\n",
    "        loop = asyncio.get_event_loop()\n",
    "        loop.run_until_complete(main())\n"
   ]
  },
  {
   "cell_type": "markdown",
   "id": "093ad5d4-c2de-4073-a3e1-cd942eb8eed3",
   "metadata": {},
   "source": [
    "Step 2: Data cleaning and preprocessing"
   ]
  },
  {
   "cell_type": "code",
   "execution_count": 8,
   "id": "52c1ecab-8c2e-4618-9510-7d0d2fa8b85b",
   "metadata": {},
   "outputs": [
    {
     "name": "stderr",
     "output_type": "stream",
     "text": [
      "[nltk_data] Downloading package punkt to\n",
      "[nltk_data]     C:\\Users\\Admin\\AppData\\Roaming\\nltk_data...\n",
      "[nltk_data]   Unzipping tokenizers\\punkt.zip.\n",
      "[nltk_data] Downloading package stopwords to\n",
      "[nltk_data]     C:\\Users\\Admin\\AppData\\Roaming\\nltk_data...\n"
     ]
    },
    {
     "name": "stdout",
     "output_type": "stream",
     "text": [
      "                                             message  \\\n",
      "0  ARKADE DEVELOPER LTD\\n\\nPosted Very Strong Res...   \n",
      "1  Stock Gainers (SEBI REGISTERED)\\n⭐️Live Analys...   \n",
      "2                                 POCL\\n\\nDAY HIGH 🔥   \n",
      "3  OPTION BUYING \\n\\nLUPIN 2100CE\\n\\nCMP 92-93\\n\\...   \n",
      "4  WHILE THE STOCK MAKES THE MOVEMENT\\n\\nYOU CAN ...   \n",
      "\n",
      "                                     cleaned_message  \n",
      "0  arkade developer ltd posted strong results tom...  \n",
      "1  stock gainers sebi registered live analysis 10...  \n",
      "2                                      pocl day high  \n",
      "3  option buying lupin 2100ce cmp 9293 support 77...  \n",
      "4  stock makes movement join prime group get entr...  \n"
     ]
    },
    {
     "name": "stderr",
     "output_type": "stream",
     "text": [
      "[nltk_data]   Unzipping corpora\\stopwords.zip.\n"
     ]
    }
   ],
   "source": [
    "import pandas as pd\n",
    "import re\n",
    "import nltk\n",
    "from nltk.corpus import stopwords\n",
    "from nltk.tokenize import word_tokenize\n",
    "\n",
    "# Download necessary NLTK data\n",
    "nltk.download('punkt')  # Tokenizer models\n",
    "nltk.download('stopwords')  # Stopwords dataset\n",
    "\n",
    "# Load the scraped Telegram data from CSV\n",
    "df = pd.read_csv('telegram_data.csv')\n",
    "\n",
    "# Define stop words\n",
    "stop_words = set(stopwords.words('english'))\n",
    "\n",
    "# Function to clean and tokenize text\n",
    "def clean_text(text):\n",
    "    text = re.sub(r'[^\\w\\s]', '', text)  # Remove special characters\n",
    "    text = text.lower()  # Lowercase all words\n",
    "    tokens = word_tokenize(text)  # Tokenize words\n",
    "    tokens = [word for word in tokens if word not in stop_words]  # Remove stopwords\n",
    "    return ' '.join(tokens)\n",
    "\n",
    "# Apply text cleaning to the dataframe\n",
    "df['cleaned_message'] = df['message'].apply(clean_text)\n",
    "df = df.dropna()  # Remove rows with missing values\n",
    "\n",
    "# Save cleaned data to CSV\n",
    "df.to_csv('cleaned_telegram_data.csv', index=False)\n",
    "\n",
    "# Preview cleaned data\n",
    "print(df.head())\n"
   ]
  },
  {
   "cell_type": "code",
   "execution_count": 25,
   "id": "81b03edf-71f7-463d-a94e-514a9b14d4bb",
   "metadata": {},
   "outputs": [
    {
     "name": "stdout",
     "output_type": "stream",
     "text": [
      "First few rows of raw messages from Telegram:\n",
      "                                             message\n",
      "0  ARKADE DEVELOPER LTD\\n\\nPosted Very Strong Res...\n",
      "1  Stock Gainers (SEBI REGISTERED)\\n⭐️Live Analys...\n",
      "2                                 POCL\\n\\nDAY HIGH 🔥\n",
      "3  OPTION BUYING \\n\\nLUPIN 2100CE\\n\\nCMP 92-93\\n\\...\n",
      "4  WHILE THE STOCK MAKES THE MOVEMENT\\n\\nYOU CAN ...\n",
      "Check for missing values:\n",
      "message    0\n",
      "dtype: int64\n"
     ]
    }
   ],
   "source": [
    "import pandas as pd\n",
    "\n",
    "# Load the scraped Telegram data from CSV\n",
    "df = pd.read_csv('telegram_data.csv')\n",
    "\n",
    "# Display the first few rows of the raw data to inspect the content\n",
    "print(\"First few rows of raw messages from Telegram:\")\n",
    "print(df.head())\n",
    "\n",
    "# Check for missing or empty messages\n",
    "print(\"Check for missing values:\")\n",
    "print(df.isnull().sum())\n"
   ]
  },
  {
   "cell_type": "markdown",
   "id": "9c98fd0a-fac0-4b94-8d07-d9e1c1e0fe8f",
   "metadata": {},
   "source": [
    "Sentiment Analysis"
   ]
  },
  {
   "cell_type": "code",
   "execution_count": 24,
   "id": "565b0fbc-2b87-4849-a12a-21ec22423eed",
   "metadata": {},
   "outputs": [
    {
     "name": "stdout",
     "output_type": "stream",
     "text": [
      "Columns in the DataFrame:\n",
      "Index(['message'], dtype='object')\n",
      "\n",
      "Rows where stock mentions were detected:\n",
      "                                               message stock_mentions\n",
      "41   Stock Gainers (SEBI REGISTERED)\\n⭐️Live Analys...          TRENT\n",
      "44                                            TRENT 🔥🔥          TRENT\n",
      "45                       TRENT \\n\\nLOOKING \\nGOOD BTST          TRENT\n",
      "47                    TRENT\\n\\nTOMM 8300-8400 possible          TRENT\n",
      "48   ONe more\\n\\nBTST\\n\\nVIEW\\n\\nTRENT 8100CE\\n\\nCM...          TRENT\n",
      "62   OPTION BUYING VIEW \\n\\nTRENT 7800CE\\n\\n292 TO ...          TRENT\n",
      "67   OPTION BUYING \\n\\nTRENT 7800CE\\n\\n295 to 325\\n...          TRENT\n",
      "68                TRENT \\n\\nSHOWING VERY GOOD STRENGTH          TRENT\n",
      "69   OPTION BUYING VIEW \\n\\nTRENT 7800CE\\n\\nCMP 292...          TRENT\n",
      "85                                            BLUEDART       BLUEDART\n",
      "90   Good Stocks available at attractive levels \\n\\...          TRENT\n",
      "142            GAIL \\nPFC\\n\\nDAY HIGH \\n\\nPERFECT VIEW            PFC\n",
      "143                       Bullish VIEW on\\n\\nGAIL\\nPFC            PFC\n",
      "157  Stock Gainers (SEBI REGISTERED)\\n⭐️Live Analys...          TRENT\n",
      "165  OPTION BUYING VIEW \\n\\nTRENT 8000CE\\n\\nCMP 310...          TRENT\n",
      "172                                           PFC\\nREC            PFC\n",
      "246  Stock Gainers (SEBI REGISTERED)\\n⭐️Live Analys...          TRENT\n",
      "268                         Trent\\n\\nmodify support 97          TRENT\n",
      "270  TRENT\\n\\nTRENT 7600 CE 98-102\\n\\nsupport 70\\n\\...          TRENT\n",
      "276                     PFC\\nREC\\n\\nSHOWING STRENGTH 💪            PFC\n",
      "339                            OBEROIRLTY  BREAKOUT 🔥🚀     OBEROIRLTY\n",
      "397  BLUEDART DELIVERS FAST.\\n\\n      WE DELIVER BL...       BLUEDART\n",
      "406                                   TRENT BREAKOUT 🚀          TRENT\n",
      "410  TRENT\\n\\nPERFECT VIEW\\n\\nPERFECT EXECUTION \\n\\...          TRENT\n",
      "412              TRENT \\n\\n\\nलग रहा है \\nसमय या गया है          TRENT\n",
      "442  Stock Gainers (SEBI REGISTERED)\\n⭐️Live Analys...     OBEROIRLTY\n",
      "443     OBEROIRLTY \\n\\n48🔥🚀🚀\\n\\nview achieved intraday     OBEROIRLTY\n",
      "453  OBEROIRLTY \\n\\nOBEROIRLTY 1800 CE 42-43\\n\\nsup...     OBEROIRLTY\n",
      "Total number of stock mentions detected: 28\n",
      "\n",
      "Stock Sentiment Analysis Result:\n",
      "sentiment_label  neutral  positive\n",
      "stock_mentions                    \n",
      "BLUEDART               2         0\n",
      "OBEROIRLTY             2         2\n",
      "PFC                    2         2\n",
      "TRENT                  6        12\n"
     ]
    },
    {
     "name": "stderr",
     "output_type": "stream",
     "text": [
      "[nltk_data] Downloading package vader_lexicon to\n",
      "[nltk_data]     C:\\Users\\Admin\\AppData\\Roaming\\nltk_data...\n",
      "[nltk_data]   Package vader_lexicon is already up-to-date!\n"
     ]
    }
   ],
   "source": [
    "import pandas as pd\n",
    "import re\n",
    "from nltk.sentiment import SentimentIntensityAnalyzer\n",
    "import nltk\n",
    "\n",
    "# Download VADER lexicon for sentiment analysis\n",
    "nltk.download('vader_lexicon')\n",
    "\n",
    "# Load the scraped Telegram data\n",
    "df = pd.read_csv('telegram_data.csv')\n",
    "\n",
    "# Check if DataFrame loaded correctly\n",
    "print(\"Columns in the DataFrame:\")\n",
    "print(df.columns)\n",
    "\n",
    "# Define stock keywords to look for\n",
    "stock_keywords = ['TRENT', 'PFC', 'BLUEDART', 'OBEROIRLTY']  # Add more stocks as needed\n",
    "\n",
    "# Function to extract stock mentions\n",
    "def extract_stock_mentions(text):\n",
    "    pattern = r'\\b(' + '|'.join(stock_keywords) + r')\\b'  # Create regex pattern for the keywords\n",
    "    match = re.search(pattern, text.upper())  # Search for the pattern in the text\n",
    "    if match:\n",
    "        return match.group(0)  # Return the matched stock keyword\n",
    "    return None\n",
    "\n",
    "# Apply the extraction function\n",
    "df['stock_mentions'] = df['message'].apply(extract_stock_mentions)\n",
    "\n",
    "# Check for stock mentions\n",
    "print(\"\\nRows where stock mentions were detected:\")\n",
    "stock_mentions_df = df[df['stock_mentions'].notnull()]\n",
    "print(stock_mentions_df[['message', 'stock_mentions']])\n",
    "\n",
    "# Count total stock mentions detected\n",
    "total_mentions = stock_mentions_df['stock_mentions'].count()\n",
    "print(f\"Total number of stock mentions detected: {total_mentions}\")\n",
    "\n",
    "# Perform sentiment analysis\n",
    "analyzer = SentimentIntensityAnalyzer()\n",
    "\n",
    "def analyze_sentiment(text):\n",
    "    sentiment = analyzer.polarity_scores(text)\n",
    "    if sentiment['compound'] >= 0.05:\n",
    "        return 'positive'\n",
    "    elif sentiment['compound'] <= -0.05:\n",
    "        return 'negative'\n",
    "    else:\n",
    "        return 'neutral'\n",
    "\n",
    "# Apply sentiment analysis to the original messages\n",
    "df['sentiment_label'] = df['message'].apply(analyze_sentiment)\n",
    "\n",
    "# Now combine stock mentions and sentiment labels\n",
    "stock_sentiment_df = df[df['stock_mentions'].notnull()]\n",
    "\n",
    "# Group by stock and sentiment\n",
    "stock_sentiment = stock_sentiment_df.groupby(['stock_mentions', 'sentiment_label']).size().unstack(fill_value=0)\n",
    "\n",
    "# Output the stock sentiment analysis result\n",
    "print(\"\\nStock Sentiment Analysis Result:\")\n",
    "print(stock_sentiment)\n"
   ]
  },
  {
   "cell_type": "code",
   "execution_count": 26,
   "id": "df961754-aacd-4b4f-93ef-eb5b1bfd59ba",
   "metadata": {},
   "outputs": [
    {
     "data": {
      "image/png": "[encoded data removed]",
      "text/plain": [
       "<Figure size 1200x600 with 1 Axes>"
      ]
     },
     "metadata": {},
     "output_type": "display_data"
    },
    {
     "name": "stdout",
     "output_type": "stream",
     "text": [
      "\n",
      "Report Findings:\n",
      "BLUEDART: Positive Sentiment: 0, Negative Sentiment: 0, Neutral Sentiment: 2\n",
      "OBEROIRLTY: Positive Sentiment: 2, Negative Sentiment: 0, Neutral Sentiment: 2\n",
      "PFC: Positive Sentiment: 2, Negative Sentiment: 0, Neutral Sentiment: 2\n",
      "TRENT: Positive Sentiment: 12, Negative Sentiment: 0, Neutral Sentiment: 6\n"
     ]
    }
   ],
   "source": [
    "import matplotlib.pyplot as plt\n",
    "import seaborn as sns\n",
    "\n",
    "# Ensure the plots are styled nicely\n",
    "sns.set(style=\"whitegrid\")\n",
    "\n",
    "# Step 4.1: Create a DataFrame to summarize sentiment counts for each stock\n",
    "sentiment_summary = stock_sentiment_df.groupby(['stock_mentions', 'sentiment_label']).size().reset_index(name='count')\n",
    "\n",
    "# Step 4.2: Create a bar plot for sentiment counts by stock\n",
    "plt.figure(figsize=(12, 6))\n",
    "sns.barplot(x='stock_mentions', y='count', hue='sentiment_label', data=sentiment_summary)\n",
    "plt.title('Sentiment Counts by Stock')\n",
    "plt.xlabel('Stock')\n",
    "plt.ylabel('Count of Sentiments')\n",
    "plt.xticks(rotation=45)\n",
    "plt.legend(title='Sentiment Label')\n",
    "plt.tight_layout()\n",
    "plt.show()\n",
    "\n",
    "\n",
    "\n",
    "# Step 4.4: Report findings\n",
    "print(\"\\nReport Findings:\")\n",
    "for stock in stock_sentiment.index:\n",
    "    positive_count = stock_sentiment.loc[stock, 'positive'] if 'positive' in stock_sentiment.columns else 0\n",
    "    negative_count = stock_sentiment.loc[stock, 'negative'] if 'negative' in stock_sentiment.columns else 0\n",
    "    neutral_count = stock_sentiment.loc[stock, 'neutral'] if 'neutral' in stock_sentiment.columns else 0\n",
    "    \n",
    "    total_mentions = positive_count + negative_count + neutral_count\n",
    "    if total_mentions > 0:\n",
    "        print(f\"{stock}: Positive Sentiment: {positive_count}, Negative Sentiment: {negative_count}, Neutral Sentiment: {neutral_count}\")\n",
    "        if negative_count > positive_count:\n",
    "            print(f\"  **Recommendation: Caution advised for {stock} due to negative sentiment.**\")\n",
    "\n"
   ]
  },
  {
   "cell_type": "code",
   "execution_count": 28,
   "id": "6d7cb926-3dab-4d3f-a27e-2a6ef3df9bce",
   "metadata": {},
   "outputs": [
    {
     "data": {
      "image/png": "[encoded data removed]",
      "text/plain": [
       "<Figure size 1200x800 with 2 Axes>"
      ]
     },
     "metadata": {},
     "output_type": "display_data"
    }
   ],
   "source": [
    "import seaborn as sns\n",
    "import matplotlib.pyplot as plt\n",
    "\n",
    "# Assuming 'sentiment_summary' is a DataFrame with the structure:\n",
    "# Columns: ['stock_mentions', 'sentiment_label', 'count']\n",
    "\n",
    "# Step 4.5: Create a heatmap for sentiment distribution\n",
    "# Create a pivot table for the heatmap\n",
    "heatmap_data = sentiment_summary.pivot(index=\"stock_mentions\", columns=\"sentiment_label\", values=\"count\").fillna(0)\n",
    "\n",
    "# Create the heatmap\n",
    "plt.figure(figsize=(12, 8))\n",
    "sns.heatmap(heatmap_data, annot=True, fmt=\".0f\", cmap=\"YlGnBu\", cbar_kws={'label': 'Count'})\n",
    "plt.title('Sentiment Distribution Heatmap')\n",
    "plt.xlabel('Sentiment Label')\n",
    "plt.ylabel('Stock Mentions')\n",
    "plt.tight_layout()\n",
    "plt.show()\n"
   ]
  },
  {
   "cell_type": "markdown",
   "id": "7630861d-9c6e-4082-b889-fd0597a34752",
   "metadata": {},
   "source": [
    "Generate Actionable Insights from Sentiment Analysis"
   ]
  },
  {
   "cell_type": "code",
   "execution_count": 32,
   "id": "f0892552-41c3-4431-a052-a9cb59ca3e81",
   "metadata": {},
   "outputs": [
    {
     "name": "stdout",
     "output_type": "stream",
     "text": [
      "Sentiment Summary DataFrame:\n",
      "  stock_mentions sentiment_label  count\n",
      "0       BLUEDART         neutral      2\n",
      "1     OBEROIRLTY         neutral      2\n",
      "2     OBEROIRLTY        positive      2\n",
      "3            PFC         neutral      2\n",
      "4            PFC        positive      2\n",
      "5          TRENT         neutral      6\n",
      "6          TRENT        positive     12\n",
      "No actionable insights generated.\n"
     ]
    }
   ],
   "source": [
    "# Step 5: Generate Actionable Insights from Sentiment Analysis\n",
    "\n",
    "# Define a function to analyze insights based on sentiment\n",
    "def generate_insights(sentiment_summary):\n",
    "    insights = []\n",
    "    \n",
    "    # Define thresholds for strong sentiment\n",
    "    positive_threshold = 10  # Example threshold for positive sentiment\n",
    "    negative_threshold = 5    # Example threshold for negative sentiment\n",
    "\n",
    "    print(\"Sentiment Summary DataFrame:\")\n",
    "    print(sentiment_summary)  # Print the sentiment summary for debugging\n",
    "\n",
    "    # Iterate over stock mentions to generate insights\n",
    "    for stock in sentiment_summary['stock_mentions'].unique():\n",
    "        stock_data = sentiment_summary[sentiment_summary['stock_mentions'] == stock]\n",
    "        \n",
    "        # Check for significant positive sentiment\n",
    "        if 'Positive' in stock_data['sentiment_label'].values:\n",
    "            positive_count = stock_data.loc[stock_data['sentiment_label'] == 'Positive', 'count'].values[0]\n",
    "            print(f\"Positive mentions for {stock}: {positive_count}\")  # Debug output\n",
    "            if positive_count >= positive_threshold:\n",
    "                insights.append(f\"Consider buying {stock}: Strong positive sentiment with {positive_count} mentions.\")\n",
    "        \n",
    "        # Check for significant negative sentiment\n",
    "        if 'Negative' in stock_data['sentiment_label'].values:\n",
    "            negative_count = stock_data.loc[stock_data['sentiment_label'] == 'Negative', 'count'].values[0]\n",
    "            print(f\"Negative mentions for {stock}: {negative_count}\")  # Debug output\n",
    "            if negative_count >= negative_threshold:\n",
    "                insights.append(f\"Consider selling {stock}: Strong negative sentiment with {negative_count} mentions.\")\n",
    "\n",
    "    return insights\n",
    "\n",
    "# Generate insights\n",
    "insights = generate_insights(sentiment_summary)\n",
    "\n",
    "# Print the generated insights\n",
    "if insights:\n",
    "    for insight in insights:\n",
    "        print(insight)\n",
    "else:\n",
    "    print(\"No actionable insights generated.\")\n"
   ]
  },
  {
   "cell_type": "markdown",
   "id": "f4ddb54c-a30c-4be1-a5f8-b021e17a2e8d",
   "metadata": {},
   "source": [
    "Accuracy Check "
   ]
  }
 ],
 "metadata": {
  "kernelspec": {
   "display_name": "Python 3 (ipykernel)",
   "language": "python",
   "name": "python3"
  },
  "language_info": {
   "codemirror_mode": {
    "name": "ipython",
    "version": 3
   },
   "file_extension": ".py",
   "mimetype": "text/x-python",
   "name": "python",
   "nbconvert_exporter": "python",
   "pygments_lexer": "ipython3",
   "version": "3.12.4"
  }
 },
 "nbformat": 4,
 "nbformat_minor": 5
}
